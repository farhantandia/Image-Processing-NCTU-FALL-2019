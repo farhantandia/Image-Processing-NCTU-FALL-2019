{
 "cells": [
  {
   "cell_type": "code",
   "execution_count": null,
   "metadata": {},
   "outputs": [],
   "source": [
    "import cv2\n",
    "import numpy as np\n",
    "import matplotlib.pyplot as plt\n",
    "# import the libraby you need here"
   ]
  },
  {
   "cell_type": "code",
   "execution_count": null,
   "metadata": {},
   "outputs": [],
   "source": [
    "rgbimg = cv2.cvtColor(cv2.imread(\"image.jpg\",cv2.IMREAD_COLOR), cv2.COLOR_BGR2RGB)\n",
    "plt.figure()\n",
    "plt.imshow(rgbimg)"
   ]
  },
  {
   "cell_type": "code",
   "execution_count": null,
   "metadata": {},
   "outputs": [],
   "source": [
    "#  show each components in different color models\n",
    "def rgb2hsi(rgbimg):\n",
    "    # convert rgb images to hsi images\n",
    "    # Hint: Normalize Hue value to [0,255] for demonstration purpose.\n",
    "    '''your code here'''\n",
    "    return h,s,i\n",
    "\n",
    "def hsi2rgb(hsiimg):\n",
    "    # convert hsi images to rgb images\n",
    "    '''your code here'''\n",
    "    return r,g,b\n",
    "\n",
    "\n",
    "# rgb2hsi\n",
    "h,s,i = rgb2hsi(rgbimg)\n",
    "# show the result\n",
    "plt.figure(figsize = (15,10))\n",
    "plt.subplot(1,3,1)\n",
    "plt.imshow(h,cmap='gray')\n",
    "plt.subplot(1,3,2)\n",
    "plt.imshow(s,cmap='gray')\n",
    "plt.subplot(1,3,3)\n",
    "plt.imshow(i,cmap='gray')\n",
    "\n",
    "# construct hsi images\n",
    "hsiimg = np.zeros((rgbimg.shape[0],rgbimg.shape[1],3))\n",
    "hsiimg[:,:,0] = h\n",
    "hsiimg[:,:,1] = s\n",
    "hsiimg[:,:,2] = i\n",
    "\n",
    "# hsi2rgb\n",
    "r,g,b = hsi2rgb(hsiimg)\n",
    "# show the result\n",
    "plt.figure(figsize = (15,10))\n",
    "plt.subplot(1,3,1)\n",
    "plt.imshow(r,cmap='gray')\n",
    "plt.subplot(1,3,2)\n",
    "plt.imshow(g,cmap='gray')\n",
    "plt.subplot(1,3,3)\n",
    "plt.imshow(b,cmap='gray')"
   ]
  },
  {
   "cell_type": "markdown",
   "metadata": {},
   "source": [
    "### Question 1\n",
    "\n",
    "Q:  We can actually find discontinuity in hue(H) component of the image that is hard to interpret. \n",
    "    In this case, it is especially apparent around the strawberries, which are depicted in gray level values near both black       and white.\n",
    "    Why is that?     \n",
    "    \n",
    "A: "
   ]
  },
  {
   "cell_type": "code",
   "execution_count": null,
   "metadata": {},
   "outputs": [],
   "source": [
    "# histogram equalization\n",
    "def histogram_equalization(input):\n",
    "    #choose the color model that is most suitable for histogram equalization.\n",
    "    ''' your code here'''\n",
    "    return heimage\n",
    "    \n",
    "heimage = histogram_equalization('''input_image''') #choose the color model you want to use as input here (rgbimg or hsiimg)\n",
    "    \n",
    "plt.figure()\n",
    "plt.imshow(heimage)"
   ]
  },
  {
   "cell_type": "markdown",
   "metadata": {},
   "source": [
    "### Question 2\n",
    "\n",
    "Q: which color model do you use? Briefly explain the reason why.\n",
    "\n",
    "A:"
   ]
  },
  {
   "cell_type": "code",
   "execution_count": null,
   "metadata": {},
   "outputs": [],
   "source": [
    "# converting noisy RGB images HSI\n",
    "gaussian = np.random.normal(0, 28, (rgbimg.shape[0],rgbimg.shape[1],3))\n",
    "noisy_rgb = rgbimg + gaussian\n",
    "(r, g, b) = cv2.split(noisy_rgb)\n",
    "plt.figure(figsize = (15,10))\n",
    "plt.subplot(1,3,1)\n",
    "plt.imshow(r,cmap='gray')\n",
    "plt.subplot(1,3,2)\n",
    "plt.imshow(g,cmap='gray')\n",
    "plt.subplot(1,3,3)\n",
    "plt.imshow(b,cmap='gray')\n",
    "\n",
    "noisy_h,noisy_s,noisy_i = rgb2hsi(noisy_rgb)\n",
    "plt.figure(figsize = (15,10))\n",
    "plt.subplot(1,3,1)\n",
    "plt.imshow(noisy_h,cmap='gray')\n",
    "plt.subplot(1,3,2)\n",
    "plt.imshow(noisy_s,cmap='gray')\n",
    "plt.subplot(1,3,3)\n",
    "plt.imshow(noisy_i,cmap='gray')"
   ]
  },
  {
   "cell_type": "markdown",
   "metadata": {},
   "source": [
    "### Question 3\n",
    "\n",
    "Q:  Briefly compare the different results of six components from two different color models (R,G,B,H,S,I).\n",
    "    What components in the HSI model are severely disturbed? Why is that?\n",
    "\n",
    "A:"
   ]
  }
 ],
 "metadata": {
  "kernelspec": {
   "display_name": "Python 3",
   "language": "python",
   "name": "python3"
  },
  "language_info": {
   "codemirror_mode": {
    "name": "ipython",
    "version": 3
   },
   "file_extension": ".py",
   "mimetype": "text/x-python",
   "name": "python",
   "nbconvert_exporter": "python",
   "pygments_lexer": "ipython3",
   "version": "3.7.5"
  }
 },
 "nbformat": 4,
 "nbformat_minor": 2
}
